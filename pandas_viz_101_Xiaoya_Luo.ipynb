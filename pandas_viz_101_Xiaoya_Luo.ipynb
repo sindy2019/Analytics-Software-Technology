{
  "nbformat": 4,
  "nbformat_minor": 0,
  "metadata": {
    "colab": {
      "provenance": []
    },
    "kernelspec": {
      "name": "python3",
      "display_name": "Python 3"
    },
    "language_info": {
      "name": "python"
    }
  },
  "cells": [
    {
      "cell_type": "markdown",
      "source": [
        "# Project 2 - Pandas & Visualization 101\n",
        "\n",
        "---\n",
        "\n",
        "- Your Name Here:\n",
        "- WFU Email Address:\n",
        "- Submission Date:"
      ],
      "metadata": {
        "id": "_uZX9XlGwPDw"
      }
    },
    {
      "cell_type": "markdown",
      "source": [
        "# Instructions\n",
        "\n",
        "1. Download the notebook `pandas_viz_101_yournamehere.ipynb` and the dataset `AmazonReviews.json` from the course website.\n",
        "\n",
        "2. Open the notebook on your local computer; Or upload and open it in Google Colab.\n",
        "\n",
        "3. Replace the placeholder text above with your name, email address, and submission date.\n",
        "\n",
        "4. This is a simple project made up of mini-tasks. Simply write the code to answer the question, and be sure to display your results!\n",
        "\n",
        "5. Please submit your notebook in **HTML** on Canvas."
      ],
      "metadata": {
        "id": "ps5h-iViwSju"
      }
    },
    {
      "cell_type": "markdown",
      "source": [
        "# Amazon Reviews\n",
        "\n",
        "The `AmazonReviews.json` dataset contains over 370,000 reviews of products in Beauty and Personal Care. The data was initially scraped, munged and prepped by Jianno Ni (https://nijianmo.github.io/) an NLP researcher/engineer at Google.\n",
        "\n",
        "\n",
        "Your challenge is to further prepare the data (easy), create summaries and charts answering various questions about the data (also easy). To complete this project, please follow these steps:"
      ],
      "metadata": {
        "id": "Ryx5XdieeOSw"
      }
    },
    {
      "cell_type": "markdown",
      "source": [
        "## Step 0. Load Libraries\n",
        "\n",
        "Load the following libraries, you may need to install them first.\n",
        "- Data Manipulation: `pandas`, `numpy`\n",
        "- Data Visualization：`seaborn`, `matplotlib.pyplot`"
      ],
      "metadata": {
        "id": "rZ22wR9mwUyh"
      }
    },
    {
      "cell_type": "code",
      "source": [
        "import pandas as pd\n",
        "import numpy as np\n",
        "import matplotlib.pyplot as plt\n",
        "import seaborn\n",
        "import warnings\n",
        "warnings.filterwarnings(\"ignore\", category=FutureWarning) # suppress the FutureWarning"
      ],
      "metadata": {
        "id": "FLhTfKjyy89g"
      },
      "execution_count": 1,
      "outputs": []
    },
    {
      "cell_type": "markdown",
      "source": [
        "## Step 1. Stage\n",
        "\n",
        "1. Use `pd.read_json()` from `pandas` to read in `AmazonReviews.json` data file, store it as a new data frame called `\"df_review\"`\n",
        "\n",
        "2. Display the first 7 records\n",
        "\n",
        "3. Check the shape and data types using `info()`"
      ],
      "metadata": {
        "id": "X4wKZ39my7C7"
      }
    },
    {
      "cell_type": "code",
      "source": [
        "df_review = pd.read_json('/content/AmazonReviews.json')"
      ],
      "metadata": {
        "id": "mjfPhRmazTVp"
      },
      "execution_count": 2,
      "outputs": []
    },
    {
      "cell_type": "code",
      "source": [
        "df_review.head(7)"
      ],
      "metadata": {
        "id": "ZAFCXQpNFN_E",
        "colab": {
          "base_uri": "https://localhost:8080/",
          "height": 365
        },
        "outputId": "64403fd6-7f93-4287-b059-2fb3c915a209"
      },
      "execution_count": 3,
      "outputs": [
        {
          "output_type": "execute_result",
          "data": {
            "text/plain": [
              "       reviewerID        reviewerName   reviewTime      itemID  \\\n",
              "0  A1V6B6TNIC10QE   theodore j bigham  02 19, 2015  0143026860   \n",
              "1  A2F5GHSXFQ0W6J        Mary K. Byke  12 18, 2014  0143026860   \n",
              "2  A1572GUYS7DGSR             David G  08 10, 2014  0143026860   \n",
              "3   A1PSGLFK1NSVO                TamB  03 11, 2013  0143026860   \n",
              "4   A6IKXKZMTKGSC          shoecanary  12 25, 2011  0143026860   \n",
              "5  A36NF437WZLQ9E           W. Powell  02 26, 2010  0143026860   \n",
              "6  A10Q8NIFOVOHFV  Robert S. Clay Jr.   03 7, 2001  0143026860   \n",
              "\n",
              "                                          reviewText  overallRating  \\\n",
              "0                                              great              1   \n",
              "1  My  husband wanted to reading about the Negro ...              4   \n",
              "2  This book was very informative, covering all a...              4   \n",
              "3  I am already a baseball fan and knew a bit abo...              5   \n",
              "4  This was a good story of the Black leagues. I ...              5   \n",
              "5  Today I gave a book about the Negro Leagues of...              5   \n",
              "6  The story of race relations in American histor...              4   \n",
              "\n",
              "                                             summary  verified  \n",
              "0                                           One Star      True  \n",
              "1  ... to reading about the Negro Baseball and th...      True  \n",
              "2                                     Worth the Read      True  \n",
              "3                                          Good Read      True  \n",
              "4                More than facts, a good story read!      True  \n",
              "5                         The Gift of Black Baseball     False  \n",
              "6                     Baseball, America, and racism.     False  "
            ],
            "text/html": [
              "\n",
              "\n",
              "  <div id=\"df-8a36e764-c66c-4b85-8167-6a3cfcdaecaf\">\n",
              "    <div class=\"colab-df-container\">\n",
              "      <div>\n",
              "<style scoped>\n",
              "    .dataframe tbody tr th:only-of-type {\n",
              "        vertical-align: middle;\n",
              "    }\n",
              "\n",
              "    .dataframe tbody tr th {\n",
              "        vertical-align: top;\n",
              "    }\n",
              "\n",
              "    .dataframe thead th {\n",
              "        text-align: right;\n",
              "    }\n",
              "</style>\n",
              "<table border=\"1\" class=\"dataframe\">\n",
              "  <thead>\n",
              "    <tr style=\"text-align: right;\">\n",
              "      <th></th>\n",
              "      <th>reviewerID</th>\n",
              "      <th>reviewerName</th>\n",
              "      <th>reviewTime</th>\n",
              "      <th>itemID</th>\n",
              "      <th>reviewText</th>\n",
              "      <th>overallRating</th>\n",
              "      <th>summary</th>\n",
              "      <th>verified</th>\n",
              "    </tr>\n",
              "  </thead>\n",
              "  <tbody>\n",
              "    <tr>\n",
              "      <th>0</th>\n",
              "      <td>A1V6B6TNIC10QE</td>\n",
              "      <td>theodore j bigham</td>\n",
              "      <td>02 19, 2015</td>\n",
              "      <td>0143026860</td>\n",
              "      <td>great</td>\n",
              "      <td>1</td>\n",
              "      <td>One Star</td>\n",
              "      <td>True</td>\n",
              "    </tr>\n",
              "    <tr>\n",
              "      <th>1</th>\n",
              "      <td>A2F5GHSXFQ0W6J</td>\n",
              "      <td>Mary K. Byke</td>\n",
              "      <td>12 18, 2014</td>\n",
              "      <td>0143026860</td>\n",
              "      <td>My  husband wanted to reading about the Negro ...</td>\n",
              "      <td>4</td>\n",
              "      <td>... to reading about the Negro Baseball and th...</td>\n",
              "      <td>True</td>\n",
              "    </tr>\n",
              "    <tr>\n",
              "      <th>2</th>\n",
              "      <td>A1572GUYS7DGSR</td>\n",
              "      <td>David G</td>\n",
              "      <td>08 10, 2014</td>\n",
              "      <td>0143026860</td>\n",
              "      <td>This book was very informative, covering all a...</td>\n",
              "      <td>4</td>\n",
              "      <td>Worth the Read</td>\n",
              "      <td>True</td>\n",
              "    </tr>\n",
              "    <tr>\n",
              "      <th>3</th>\n",
              "      <td>A1PSGLFK1NSVO</td>\n",
              "      <td>TamB</td>\n",
              "      <td>03 11, 2013</td>\n",
              "      <td>0143026860</td>\n",
              "      <td>I am already a baseball fan and knew a bit abo...</td>\n",
              "      <td>5</td>\n",
              "      <td>Good Read</td>\n",
              "      <td>True</td>\n",
              "    </tr>\n",
              "    <tr>\n",
              "      <th>4</th>\n",
              "      <td>A6IKXKZMTKGSC</td>\n",
              "      <td>shoecanary</td>\n",
              "      <td>12 25, 2011</td>\n",
              "      <td>0143026860</td>\n",
              "      <td>This was a good story of the Black leagues. I ...</td>\n",
              "      <td>5</td>\n",
              "      <td>More than facts, a good story read!</td>\n",
              "      <td>True</td>\n",
              "    </tr>\n",
              "    <tr>\n",
              "      <th>5</th>\n",
              "      <td>A36NF437WZLQ9E</td>\n",
              "      <td>W. Powell</td>\n",
              "      <td>02 26, 2010</td>\n",
              "      <td>0143026860</td>\n",
              "      <td>Today I gave a book about the Negro Leagues of...</td>\n",
              "      <td>5</td>\n",
              "      <td>The Gift of Black Baseball</td>\n",
              "      <td>False</td>\n",
              "    </tr>\n",
              "    <tr>\n",
              "      <th>6</th>\n",
              "      <td>A10Q8NIFOVOHFV</td>\n",
              "      <td>Robert S. Clay Jr.</td>\n",
              "      <td>03 7, 2001</td>\n",
              "      <td>0143026860</td>\n",
              "      <td>The story of race relations in American histor...</td>\n",
              "      <td>4</td>\n",
              "      <td>Baseball, America, and racism.</td>\n",
              "      <td>False</td>\n",
              "    </tr>\n",
              "  </tbody>\n",
              "</table>\n",
              "</div>\n",
              "      <button class=\"colab-df-convert\" onclick=\"convertToInteractive('df-8a36e764-c66c-4b85-8167-6a3cfcdaecaf')\"\n",
              "              title=\"Convert this dataframe to an interactive table.\"\n",
              "              style=\"display:none;\">\n",
              "\n",
              "  <svg xmlns=\"http://www.w3.org/2000/svg\" height=\"24px\"viewBox=\"0 0 24 24\"\n",
              "       width=\"24px\">\n",
              "    <path d=\"M0 0h24v24H0V0z\" fill=\"none\"/>\n",
              "    <path d=\"M18.56 5.44l.94 2.06.94-2.06 2.06-.94-2.06-.94-.94-2.06-.94 2.06-2.06.94zm-11 1L8.5 8.5l.94-2.06 2.06-.94-2.06-.94L8.5 2.5l-.94 2.06-2.06.94zm10 10l.94 2.06.94-2.06 2.06-.94-2.06-.94-.94-2.06-.94 2.06-2.06.94z\"/><path d=\"M17.41 7.96l-1.37-1.37c-.4-.4-.92-.59-1.43-.59-.52 0-1.04.2-1.43.59L10.3 9.45l-7.72 7.72c-.78.78-.78 2.05 0 2.83L4 21.41c.39.39.9.59 1.41.59.51 0 1.02-.2 1.41-.59l7.78-7.78 2.81-2.81c.8-.78.8-2.07 0-2.86zM5.41 20L4 18.59l7.72-7.72 1.47 1.35L5.41 20z\"/>\n",
              "  </svg>\n",
              "      </button>\n",
              "\n",
              "\n",
              "\n",
              "    <div id=\"df-40ef7471-cb6c-430d-b97a-9028dd55851e\">\n",
              "      <button class=\"colab-df-quickchart\" onclick=\"quickchart('df-40ef7471-cb6c-430d-b97a-9028dd55851e')\"\n",
              "              title=\"Suggest charts.\"\n",
              "              style=\"display:none;\">\n",
              "\n",
              "<svg xmlns=\"http://www.w3.org/2000/svg\" height=\"24px\"viewBox=\"0 0 24 24\"\n",
              "     width=\"24px\">\n",
              "    <g>\n",
              "        <path d=\"M19 3H5c-1.1 0-2 .9-2 2v14c0 1.1.9 2 2 2h14c1.1 0 2-.9 2-2V5c0-1.1-.9-2-2-2zM9 17H7v-7h2v7zm4 0h-2V7h2v10zm4 0h-2v-4h2v4z\"/>\n",
              "    </g>\n",
              "</svg>\n",
              "      </button>\n",
              "    </div>\n",
              "\n",
              "<style>\n",
              "  .colab-df-quickchart {\n",
              "    background-color: #E8F0FE;\n",
              "    border: none;\n",
              "    border-radius: 50%;\n",
              "    cursor: pointer;\n",
              "    display: none;\n",
              "    fill: #1967D2;\n",
              "    height: 32px;\n",
              "    padding: 0 0 0 0;\n",
              "    width: 32px;\n",
              "  }\n",
              "\n",
              "  .colab-df-quickchart:hover {\n",
              "    background-color: #E2EBFA;\n",
              "    box-shadow: 0px 1px 2px rgba(60, 64, 67, 0.3), 0px 1px 3px 1px rgba(60, 64, 67, 0.15);\n",
              "    fill: #174EA6;\n",
              "  }\n",
              "\n",
              "  [theme=dark] .colab-df-quickchart {\n",
              "    background-color: #3B4455;\n",
              "    fill: #D2E3FC;\n",
              "  }\n",
              "\n",
              "  [theme=dark] .colab-df-quickchart:hover {\n",
              "    background-color: #434B5C;\n",
              "    box-shadow: 0px 1px 3px 1px rgba(0, 0, 0, 0.15);\n",
              "    filter: drop-shadow(0px 1px 2px rgba(0, 0, 0, 0.3));\n",
              "    fill: #FFFFFF;\n",
              "  }\n",
              "</style>\n",
              "\n",
              "    <script>\n",
              "      async function quickchart(key) {\n",
              "        const containerElement = document.querySelector('#' + key);\n",
              "        const charts = await google.colab.kernel.invokeFunction(\n",
              "            'suggestCharts', [key], {});\n",
              "      }\n",
              "    </script>\n",
              "\n",
              "      <script>\n",
              "\n",
              "function displayQuickchartButton(domScope) {\n",
              "  let quickchartButtonEl =\n",
              "    domScope.querySelector('#df-40ef7471-cb6c-430d-b97a-9028dd55851e button.colab-df-quickchart');\n",
              "  quickchartButtonEl.style.display =\n",
              "    google.colab.kernel.accessAllowed ? 'block' : 'none';\n",
              "}\n",
              "\n",
              "        displayQuickchartButton(document);\n",
              "      </script>\n",
              "      <style>\n",
              "    .colab-df-container {\n",
              "      display:flex;\n",
              "      flex-wrap:wrap;\n",
              "      gap: 12px;\n",
              "    }\n",
              "\n",
              "    .colab-df-convert {\n",
              "      background-color: #E8F0FE;\n",
              "      border: none;\n",
              "      border-radius: 50%;\n",
              "      cursor: pointer;\n",
              "      display: none;\n",
              "      fill: #1967D2;\n",
              "      height: 32px;\n",
              "      padding: 0 0 0 0;\n",
              "      width: 32px;\n",
              "    }\n",
              "\n",
              "    .colab-df-convert:hover {\n",
              "      background-color: #E2EBFA;\n",
              "      box-shadow: 0px 1px 2px rgba(60, 64, 67, 0.3), 0px 1px 3px 1px rgba(60, 64, 67, 0.15);\n",
              "      fill: #174EA6;\n",
              "    }\n",
              "\n",
              "    [theme=dark] .colab-df-convert {\n",
              "      background-color: #3B4455;\n",
              "      fill: #D2E3FC;\n",
              "    }\n",
              "\n",
              "    [theme=dark] .colab-df-convert:hover {\n",
              "      background-color: #434B5C;\n",
              "      box-shadow: 0px 1px 3px 1px rgba(0, 0, 0, 0.15);\n",
              "      filter: drop-shadow(0px 1px 2px rgba(0, 0, 0, 0.3));\n",
              "      fill: #FFFFFF;\n",
              "    }\n",
              "  </style>\n",
              "\n",
              "      <script>\n",
              "        const buttonEl =\n",
              "          document.querySelector('#df-8a36e764-c66c-4b85-8167-6a3cfcdaecaf button.colab-df-convert');\n",
              "        buttonEl.style.display =\n",
              "          google.colab.kernel.accessAllowed ? 'block' : 'none';\n",
              "\n",
              "        async function convertToInteractive(key) {\n",
              "          const element = document.querySelector('#df-8a36e764-c66c-4b85-8167-6a3cfcdaecaf');\n",
              "          const dataTable =\n",
              "            await google.colab.kernel.invokeFunction('convertToInteractive',\n",
              "                                                     [key], {});\n",
              "          if (!dataTable) return;\n",
              "\n",
              "          const docLinkHtml = 'Like what you see? Visit the ' +\n",
              "            '<a target=\"_blank\" href=https://colab.research.google.com/notebooks/data_table.ipynb>data table notebook</a>'\n",
              "            + ' to learn more about interactive tables.';\n",
              "          element.innerHTML = '';\n",
              "          dataTable['output_type'] = 'display_data';\n",
              "          await google.colab.output.renderOutput(dataTable, element);\n",
              "          const docLink = document.createElement('div');\n",
              "          docLink.innerHTML = docLinkHtml;\n",
              "          element.appendChild(docLink);\n",
              "        }\n",
              "      </script>\n",
              "    </div>\n",
              "  </div>\n"
            ]
          },
          "metadata": {},
          "execution_count": 3
        }
      ]
    },
    {
      "cell_type": "code",
      "source": [],
      "metadata": {
        "id": "C-uOnkAUzUF0"
      },
      "execution_count": null,
      "outputs": []
    },
    {
      "cell_type": "markdown",
      "source": [
        "## Step 2. Structure & Transform (Part I)\n",
        "\n",
        "Applying data cleaning methods to the dataset `df_review`:\n",
        "\n",
        "1. Summarize NAs: Report the **number** and **percentage** of missing values for each column\n",
        "\n",
        "2. Clean NAs: Drop any rows where `reviewText` is None\n",
        "\n",
        "3. Drop the columns of `summary` and `reviewerName`\n",
        "\n",
        "4. Double-check NAs: Given the processed data, double check the **number** and **percentage** of missing values for each column\n",
        "> Hint: There sholud be no NAs anymore\n",
        "\n",
        "5. Explore the column of `verified`, report the percentage of rows that are verified using `value_counts()`\n",
        "\n",
        "6. Filter and keep the subset of data where`verified==True`. Store this as a new data frame `df_review_prep`\n",
        "> Hint: There should be 322098 rows"
      ],
      "metadata": {
        "id": "dPZHoZ2i4NUN"
      }
    },
    {
      "cell_type": "code",
      "source": [],
      "metadata": {
        "id": "Yvzsv8kM4OQA"
      },
      "execution_count": null,
      "outputs": []
    },
    {
      "cell_type": "code",
      "source": [],
      "metadata": {
        "id": "k6zT4kLB3P4H"
      },
      "execution_count": null,
      "outputs": []
    },
    {
      "cell_type": "code",
      "source": [],
      "metadata": {
        "id": "kunFXY213tn2"
      },
      "execution_count": null,
      "outputs": []
    },
    {
      "cell_type": "code",
      "source": [],
      "metadata": {
        "id": "Ow78nXrf5ZGS"
      },
      "execution_count": null,
      "outputs": []
    },
    {
      "cell_type": "code",
      "source": [],
      "metadata": {
        "id": "hFxgL10xE7k2"
      },
      "execution_count": null,
      "outputs": []
    },
    {
      "cell_type": "code",
      "source": [],
      "metadata": {
        "id": "7-1ya-rMDo-s"
      },
      "execution_count": null,
      "outputs": []
    },
    {
      "cell_type": "markdown",
      "source": [
        "## Step 3. Structure & Transform (Part II)\n",
        "\n",
        "Given the data frame `\"df_review_prep\"` we created, please further transform the data by performing the following:\n",
        "\n",
        "1. Create binary indicators (aka flag variables or dummy variables)\n",
        "\n",
        "- Create a flag variable \"good_flag\" if the `reviewText` mentions the word \"good\", regardless of case, set the flag to 1 else default it to 0\n",
        "> There should be around 43831 references to “good”.\n",
        "\n",
        "- Create a flag variable \"great_flag\" if the `reviewText` mentions the word \"great\", regardless of case, set the flag to 1 else default it to 0\n",
        "> There should be around 62080 references to “great”.\n",
        "\n",
        "- Create a flag variable \"bad_flag\", if the `reviewText` mentions the word \"bad\", regardless of case, set the flag to 1 else default it to 0\n",
        "> There should be around 6710 references to “bad”.\n",
        "\n",
        "> One approach to create flag variables (there are many):\n",
        "```python\n",
        "df['good_flag'] = 0\n",
        "df['good_flag'][df['text'].str.contains('good', case=False)] = 1\n",
        "```\n",
        "\n",
        "2. Create another variable \"review_len\" which is the number of characters each review includes\n",
        "> Hint:\n",
        "```python\n",
        "df['text_len'] = df['text'].str.len()\n",
        "```\n",
        "\n",
        "3. List the first 5 records of `\"df_review_prep\"` to make sure your code works"
      ],
      "metadata": {
        "id": "ZRM78Pn8B8yb"
      }
    },
    {
      "cell_type": "code",
      "source": [],
      "metadata": {
        "id": "HPHRU2b0RSN6"
      },
      "execution_count": null,
      "outputs": []
    },
    {
      "cell_type": "code",
      "source": [],
      "metadata": {
        "id": "VKAOqJFPRSQk"
      },
      "execution_count": null,
      "outputs": []
    },
    {
      "cell_type": "code",
      "source": [],
      "metadata": {
        "id": "R8XBET93Sk45"
      },
      "execution_count": null,
      "outputs": []
    },
    {
      "cell_type": "code",
      "source": [],
      "metadata": {
        "id": "d-xQSBtZSpxH"
      },
      "execution_count": null,
      "outputs": []
    },
    {
      "cell_type": "code",
      "source": [],
      "metadata": {
        "id": "Yk-1JY4kTC0L"
      },
      "execution_count": null,
      "outputs": []
    },
    {
      "cell_type": "code",
      "source": [],
      "metadata": {
        "id": "zsLJMKOXTC2Z"
      },
      "execution_count": null,
      "outputs": []
    },
    {
      "cell_type": "code",
      "source": [],
      "metadata": {
        "id": "L4qK_KhczYCd"
      },
      "execution_count": null,
      "outputs": []
    },
    {
      "cell_type": "code",
      "source": [],
      "metadata": {
        "id": "ak5HNS_7yqoQ"
      },
      "execution_count": null,
      "outputs": []
    },
    {
      "cell_type": "code",
      "source": [],
      "metadata": {
        "id": "aST65vH54S5h"
      },
      "execution_count": null,
      "outputs": []
    },
    {
      "cell_type": "markdown",
      "source": [
        "## Step 4. Frequency Analysis & Graphs\n",
        "\n",
        "1. Create 4 basic bar charts using `sns.countplot()` to explore `overallRating` -  set the argument `hue` (i.e., color setting) by indicated fields respectively: `None`, `good_flag`, `great_flag`, `bad_flag`.\n",
        "\n",
        "> Hint: Expected charts can be created using code like this\n",
        "```python\n",
        "plt.figure(figsize=(6, 4))\n",
        "factor = 'your_flag_variable'\n",
        "sns.countplot(data=df, x=\"your_main_variable\", hue=factor).set_title('your title')\n",
        "plt.xlabel('your x label')\n",
        "plt.ylabel('your y label')\n",
        "plt.show()\n",
        "```\n",
        "\n",
        "\n",
        "2. To further explore `overallRating`, let's create stacked bar charts that present data as percentages. This method is particularly effective for comparing the proportion each subgroup contributes to the total.\n",
        "\n",
        "   In a 100% stacked bar chart, each bar will represent a unique rating value (1-5 stars) under `overallRating`. The segments of each bar will illustrate the percentage of reviews at that specific rating that have been flagged as either 'good', 'great', or 'bad'.\n",
        "\n",
        "   Let's create **three** 100% stacked bar charts - each one visualizes the relationship between `overallRating` and one of the binary flag variables respectively (`good_flag`, `great_flag`, `bad_flag`).\n",
        "\n",
        "   **Describe** the insights or patterns you find.\n",
        "\n",
        "> Hint: Expected charts can be created using code like this\n",
        "```python\n",
        "main_category = 'your_main_variable'\n",
        "binary_category = 'your_flag_variable'\n",
        "df_grouped = df.groupby(main_category)[binary_category].value_counts(normalize=True).unstack()\n",
        "df_grouped.plot(kind='bar', stacked=True, figsize=(6,3))\n",
        "plt.ylabel('Percentage')\n",
        "plt.show()\n",
        "```"
      ],
      "metadata": {
        "id": "BOjQ1eTC4Oc2"
      }
    },
    {
      "cell_type": "code",
      "source": [],
      "metadata": {
        "id": "92jwFRZVK9pw"
      },
      "execution_count": null,
      "outputs": []
    },
    {
      "cell_type": "code",
      "source": [],
      "metadata": {
        "id": "aTTXid4GNcoM"
      },
      "execution_count": null,
      "outputs": []
    },
    {
      "cell_type": "code",
      "source": [],
      "metadata": {
        "id": "1-uVRMLoNcrV"
      },
      "execution_count": null,
      "outputs": []
    },
    {
      "cell_type": "code",
      "source": [],
      "metadata": {
        "id": "IE7Owm08bqYz"
      },
      "execution_count": null,
      "outputs": []
    },
    {
      "cell_type": "code",
      "source": [],
      "metadata": {
        "id": "vyUZKAgxa0TM"
      },
      "execution_count": null,
      "outputs": []
    },
    {
      "cell_type": "code",
      "source": [],
      "metadata": {
        "id": "FIji3jVObBpQ"
      },
      "execution_count": null,
      "outputs": []
    },
    {
      "cell_type": "code",
      "source": [],
      "metadata": {
        "id": "0fh-qCvLWHzH"
      },
      "execution_count": null,
      "outputs": []
    },
    {
      "cell_type": "markdown",
      "source": [
        "## Step 5. Does Time Matter?\n",
        "\n",
        "1. Clean datetimes: Change the data type of `reviewTime` to a standard type `datetime`\n",
        "> Hint: Consider using `pd.to_datetime()`\n",
        "\n",
        "2. Create 4 new variables to store the year, month, day, and day of week by applying transformation to `reviewTime`\n",
        "> Hint:\n",
        "```python\n",
        "df['year'] = df['date_variable'].dt.year\n",
        "df['month'] = df['date_variable'].dt.month\n",
        "df['day'] = df['date_variable'].dt.day\n",
        "df['day_of_week'] = df['date_variable'].dt.weekday # where 0 represents Monday\n",
        "```\n",
        "\n",
        "3. Group by `day_of_week`, then Report the following summaries in one single data frame named `df_summary`:\n",
        "  - count the total number of reviews\n",
        "  - calculate the mean of `overallRating`\n",
        "  - calculate the mean of `review_len`\n",
        "\n",
        "\n",
        "4. Create three Bar charts using `sns.barplot()` to answer the following questions:\n",
        "\n",
        "- What is the most/least reviewed year?\n",
        "\n",
        "- What year are you most likely to get the highest/lowest mean review length?\n",
        "\n",
        "- For the data in July 2018, what day of week are you most likely to get the highest/lowest mean overall rating?"
      ],
      "metadata": {
        "id": "0TDM0yu44RRM"
      }
    },
    {
      "cell_type": "code",
      "source": [],
      "metadata": {
        "id": "du40u3kWEh0_"
      },
      "execution_count": null,
      "outputs": []
    },
    {
      "cell_type": "code",
      "source": [],
      "metadata": {
        "id": "flUzWFuW5JSc"
      },
      "execution_count": null,
      "outputs": []
    },
    {
      "cell_type": "code",
      "source": [],
      "metadata": {
        "id": "shkic8jeFozq"
      },
      "execution_count": null,
      "outputs": []
    },
    {
      "cell_type": "code",
      "source": [],
      "metadata": {
        "id": "s8hZt7bjBo-G"
      },
      "execution_count": null,
      "outputs": []
    },
    {
      "cell_type": "code",
      "source": [],
      "metadata": {
        "id": "Z-MT6I_L5qO9"
      },
      "execution_count": null,
      "outputs": []
    },
    {
      "cell_type": "code",
      "source": [],
      "metadata": {
        "id": "0itBiAmW8Z6k"
      },
      "execution_count": null,
      "outputs": []
    },
    {
      "cell_type": "markdown",
      "source": [
        "## Step 6. Chat with your Data\n",
        "\n",
        "In this final step, let's build a naive chatbot that can answer simple questions about your data using a **While Loop** and **If-Else Structures**. A good reference to complete this task is [here](https://colab.research.google.com/github/MonkeyWrenchGang/PythonBootcamp/blob/main/day_3/3_4_Journey_into_WHILE_Loops.ipynb). Please follow the instructions and code the missing parts.\n",
        "\n",
        "-  Create a greeting for the user when the chatbot starts, use the `print()` function to display it. For example:\n",
        "```python\n",
        "print(\"Hello! I am your friendly chatbot that can answer simple questions about your data.\")\n",
        "```\n",
        "- Use a while loop to start a continuous conversation. The conversation should continue until the user types 'exit'.\n",
        "- Inside the while loop, use the `input()` function to get the name of a variable from the user, store it as `input_variable`. For example:\n",
        "```python\n",
        "input_variable = input(\"What variable would you like to ask me? (Type 'exit' to end the conversation) \")\n",
        "```\n",
        "- Check if the user's input is a valid column in the data frame `df_review_prep`.\n",
        " - If it is, print a message indicating that it's a valid variable and display its data type. For example:\n",
        " ```python\n",
        "print(\"Good!\", input_variable, \"is a valid variable in this dataset\")\n",
        "print('Its data type:', df_review_prep[input_variable].dtypes)\n",
        " ```\n",
        " - If it isn't, the user should be notified and asked to try again. For example:\n",
        " ```python\n",
        "print('Sorry, your input', input_variable,'is not a variable of the dataset. Please try it again :)')\n",
        " ```\n",
        "\n",
        "- If the user's chosen variable is an integer type 'int64'\n",
        "  - Use another `input()` to ask what statistic to report. The options should be 'count', 'mean', 'max', 'min', or 'all'. For example:\n",
        "  ```python\n",
        "  summary_stats = input(\"What statistic would you like to report? Type one from: [count, mean, max, min, all]\")\n",
        "  ```\n",
        "  - Depending on the user's input, calculate and display the requested statistic for this variable.\n",
        "  - If the input isn't recognized, display an error message. For example:\n",
        "  ```python\n",
        "  print('Please input a valid statistic.')\n",
        "  ```\n",
        "\n",
        "- If the user's chosen variable is NOT an integer type 'int64'\n",
        "```python\n",
        "print('Under development.. Stay tuned :)')\n",
        "```\n",
        "\n",
        "Example conversation：\n",
        "```\n",
        "Hello! I am your friendly chatbot that can answer simple questions about your data.\n",
        "What variable would you like to ask me? (Type 'exit' to end the conversation) overallRating\n",
        "Good! overallRating is a valid variable in this dataset\n",
        "Its data type: int64\n",
        "What statistic would you like to report? Type one from: [count, mean, max, min, all] all\n",
        "count    322098.000000\n",
        "mean          4.113881\n",
        "std           1.361587\n",
        "min           1.000000\n",
        "25%           4.000000\n",
        "50%           5.000000\n",
        "75%           5.000000\n",
        "max           5.000000\n",
        "Name: overallRating, dtype: float64\n",
        "What variable would you like to ask me? (Type 'exit' to end the conversation) exit\n",
        "Goodbye! It was nice chatting with you.\n",
        "```"
      ],
      "metadata": {
        "id": "V4aGXTjoWPWe"
      }
    },
    {
      "cell_type": "code",
      "source": [],
      "metadata": {
        "id": "emqDjFrOYJhv"
      },
      "execution_count": null,
      "outputs": []
    },
    {
      "cell_type": "code",
      "source": [],
      "metadata": {
        "id": "E55stLwmWE9a"
      },
      "execution_count": null,
      "outputs": []
    },
    {
      "cell_type": "markdown",
      "source": [
        "\n",
        "# Finally\n",
        "\n",
        "**Important**: Wrap this up in a notebook and convert it to **HTML**, to exceed the bar - make sure things look good."
      ],
      "metadata": {
        "id": "aSQ3Dy7-4XdP"
      }
    }
  ]
}